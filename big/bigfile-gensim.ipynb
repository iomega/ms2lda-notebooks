{
 "cells": [
  {
   "cell_type": "code",
   "execution_count": 1,
   "metadata": {},
   "outputs": [],
   "source": [
    "from scipy.sparse import load_npz\n",
    "import numpy as np"
   ]
  },
  {
   "cell_type": "code",
   "execution_count": 2,
   "metadata": {},
   "outputs": [],
   "source": [
    "%load_ext memory_profiler"
   ]
  },
  {
   "cell_type": "code",
   "execution_count": 3,
   "metadata": {},
   "outputs": [],
   "source": [
    "from gensim.models.ldamulticore import LdaMulticore"
   ]
  },
  {
   "cell_type": "code",
   "execution_count": 4,
   "metadata": {},
   "outputs": [],
   "source": [
    "K = 300\n",
    "n_its = 1000"
   ]
  },
  {
   "cell_type": "code",
   "execution_count": 5,
   "metadata": {},
   "outputs": [],
   "source": [
    "m = load_npz('METABOLOMICS-SNETS-6e22f85a-download_clustered_spectra-main.corpus.npz')"
   ]
  },
  {
   "cell_type": "code",
   "execution_count": 17,
   "metadata": {},
   "outputs": [],
   "source": [
    "words = np.load('METABOLOMICS-SNETS-6e22f85a-download_clustered_spectra-main.wordindex.npy')"
   ]
  },
  {
   "cell_type": "code",
   "execution_count": 18,
   "metadata": {},
   "outputs": [],
   "source": [
    "id2word = {k:v for k,v in enumerate(words)}\n"
   ]
  },
  {
   "cell_type": "code",
   "execution_count": 12,
   "metadata": {},
   "outputs": [],
   "source": [
    "from gensim.models.coherencemodel import CoherenceModel"
   ]
  },
  {
   "cell_type": "code",
   "execution_count": 6,
   "metadata": {},
   "outputs": [],
   "source": [
    "from gensim.matutils import Sparse2Corpus\n",
    "from gensim.models.ldamulticore import LdaMulticore"
   ]
  },
  {
   "cell_type": "code",
   "execution_count": 7,
   "metadata": {},
   "outputs": [],
   "source": [
    "corpus = Sparse2Corpus(m)"
   ]
  },
  {
   "cell_type": "code",
   "execution_count": 22,
   "metadata": {},
   "outputs": [
    {
     "name": "stderr",
     "output_type": "stream",
     "text": [
      "/home/stefanv/miniconda3/envs/ms2lda/lib/python3.6/site-packages/gensim/models/ldamodel.py:495: RuntimeWarning: overflow encountered in true_divide\n",
      "  gammad = self.alpha + expElogthetad * np.dot(cts / phinorm, expElogbetad.T)\n",
      "/home/stefanv/miniconda3/envs/ms2lda/lib/python3.6/site-packages/gensim/models/ldamodel.py:775: RuntimeWarning: divide by zero encountered in log\n",
      "  diff = np.log(self.expElogbeta)\n",
      "/home/stefanv/miniconda3/envs/ms2lda/lib/python3.6/site-packages/gensim/models/ldamodel.py:495: RuntimeWarning: overflow encountered in true_divide\n",
      "  gammad = self.alpha + expElogthetad * np.dot(cts / phinorm, expElogbetad.T)\n",
      "/home/stefanv/miniconda3/envs/ms2lda/lib/python3.6/site-packages/gensim/models/ldamodel.py:495: RuntimeWarning: overflow encountered in true_divide\n",
      "  gammad = self.alpha + expElogthetad * np.dot(cts / phinorm, expElogbetad.T)\n"
     ]
    },
    {
     "name": "stdout",
     "output_type": "stream",
     "text": [
      "CPU times: user 5min 54s, sys: 2min 8s, total: 8min 2s\n",
      "Wall time: 14min 29s\n"
     ]
    }
   ],
   "source": [
    "%time lda = LdaMulticore(corpus, num_topics=K, iterations=10)"
   ]
  },
  {
   "cell_type": "code",
   "execution_count": 23,
   "metadata": {},
   "outputs": [],
   "source": [
    "lda.save('METABOLOMICS-SNETS-6e22f85a-download_clustered_spectra-main.k300n1000i10.lda-gensim')"
   ]
  },
  {
   "cell_type": "code",
   "execution_count": 24,
   "metadata": {},
   "outputs": [
    {
     "name": "stdout",
     "output_type": "stream",
     "text": [
      "CPU times: user 125 ms, sys: 80 ms, total: 205 ms\n",
      "Wall time: 206 ms\n"
     ]
    }
   ],
   "source": [
    "%time cm = CoherenceModel(model=lda, corpus=corpus, dictionary=id2word, coherence='u_mass')"
   ]
  },
  {
   "cell_type": "code",
   "execution_count": 25,
   "metadata": {},
   "outputs": [
    {
     "name": "stdout",
     "output_type": "stream",
     "text": [
      "CPU times: user 14 s, sys: 274 ms, total: 14.3 s\n",
      "Wall time: 14.4 s\n"
     ]
    },
    {
     "data": {
      "text/plain": [
       "-18.091697838758396"
      ]
     },
     "execution_count": 25,
     "metadata": {},
     "output_type": "execute_result"
    }
   ],
   "source": [
    "%time cm.get_coherence()"
   ]
  },
  {
   "cell_type": "code",
   "execution_count": 26,
   "metadata": {},
   "outputs": [
    {
     "name": "stderr",
     "output_type": "stream",
     "text": [
      "/home/stefanv/miniconda3/envs/ms2lda/lib/python3.6/site-packages/gensim/models/ldamodel.py:495: RuntimeWarning: overflow encountered in true_divide\n",
      "  gammad = self.alpha + expElogthetad * np.dot(cts / phinorm, expElogbetad.T)\n",
      "/home/stefanv/miniconda3/envs/ms2lda/lib/python3.6/site-packages/gensim/models/ldamodel.py:775: RuntimeWarning: divide by zero encountered in log\n",
      "  diff = np.log(self.expElogbeta)\n",
      "/home/stefanv/miniconda3/envs/ms2lda/lib/python3.6/site-packages/gensim/models/ldamodel.py:495: RuntimeWarning: overflow encountered in true_divide\n",
      "  gammad = self.alpha + expElogthetad * np.dot(cts / phinorm, expElogbetad.T)\n",
      "/home/stefanv/miniconda3/envs/ms2lda/lib/python3.6/site-packages/gensim/models/ldamodel.py:495: RuntimeWarning: overflow encountered in true_divide\n",
      "  gammad = self.alpha + expElogthetad * np.dot(cts / phinorm, expElogbetad.T)\n"
     ]
    },
    {
     "name": "stdout",
     "output_type": "stream",
     "text": [
      "CPU times: user 6min 48s, sys: 2min 15s, total: 9min 4s\n",
      "Wall time: 15min 23s\n"
     ]
    }
   ],
   "source": [
    "%time lda400 = LdaMulticore(corpus, num_topics=400, iterations=10)"
   ]
  },
  {
   "cell_type": "code",
   "execution_count": 29,
   "metadata": {},
   "outputs": [
    {
     "data": {
      "text/plain": [
       "-18.091697838758396"
      ]
     },
     "execution_count": 29,
     "metadata": {},
     "output_type": "execute_result"
    }
   ],
   "source": [
    "cm = CoherenceModel(model=lda400, corpus=corpus, dictionary=id2word, coherence='u_mass')\n",
    "cm.get_coherence()"
   ]
  },
  {
   "cell_type": "code",
   "execution_count": 30,
   "metadata": {},
   "outputs": [
    {
     "name": "stderr",
     "output_type": "stream",
     "text": [
      "/home/stefanv/miniconda3/envs/ms2lda/lib/python3.6/site-packages/gensim/models/ldamodel.py:495: RuntimeWarning: overflow encountered in true_divide\n",
      "  gammad = self.alpha + expElogthetad * np.dot(cts / phinorm, expElogbetad.T)\n",
      "/home/stefanv/miniconda3/envs/ms2lda/lib/python3.6/site-packages/gensim/models/ldamodel.py:775: RuntimeWarning: divide by zero encountered in log\n",
      "  diff = np.log(self.expElogbeta)\n",
      "/home/stefanv/miniconda3/envs/ms2lda/lib/python3.6/site-packages/gensim/models/ldamodel.py:495: RuntimeWarning: overflow encountered in true_divide\n",
      "  gammad = self.alpha + expElogthetad * np.dot(cts / phinorm, expElogbetad.T)\n",
      "/home/stefanv/miniconda3/envs/ms2lda/lib/python3.6/site-packages/gensim/models/ldamodel.py:495: RuntimeWarning: overflow encountered in true_divide\n",
      "  gammad = self.alpha + expElogthetad * np.dot(cts / phinorm, expElogbetad.T)\n"
     ]
    },
    {
     "name": "stdout",
     "output_type": "stream",
     "text": [
      "CPU times: user 5min 58s, sys: 1min 20s, total: 7min 19s\n",
      "Wall time: 13min 32s\n"
     ]
    },
    {
     "data": {
      "text/plain": [
       "-18.091697838758396"
      ]
     },
     "execution_count": 30,
     "metadata": {},
     "output_type": "execute_result"
    }
   ],
   "source": [
    "%time lda_t400i20 = LdaMulticore(corpus, num_topics=300, iterations=20)\n",
    "cm = CoherenceModel(model=lda_t400i20, corpus=corpus, dictionary=id2word, coherence='u_mass')\n",
    "cm.get_coherence()"
   ]
  },
  {
   "cell_type": "code",
   "execution_count": null,
   "metadata": {},
   "outputs": [],
   "source": []
  }
 ],
 "metadata": {
  "kernelspec": {
   "display_name": "Python 3 (ms2lda)",
   "language": "python",
   "name": "ms2lda"
  },
  "language_info": {
   "codemirror_mode": {
    "name": "ipython",
    "version": 3
   },
   "file_extension": ".py",
   "mimetype": "text/x-python",
   "name": "python",
   "nbconvert_exporter": "python",
   "pygments_lexer": "ipython3",
   "version": "3.6.5"
  }
 },
 "nbformat": 4,
 "nbformat_minor": 2
}
