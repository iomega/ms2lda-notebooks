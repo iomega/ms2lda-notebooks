{
 "cells": [
  {
   "cell_type": "markdown",
   "metadata": {},
   "source": [
    "Generate corpus from big spectra file using ms2lda.\n",
    "Store output as json, numpy array (\\*.npy) and scipy sparse matrix (\\*.npz) files."
   ]
  },
  {
   "cell_type": "code",
   "execution_count": 1,
   "metadata": {},
   "outputs": [],
   "source": [
    "import sys\n",
    "\n",
    "sys.path.append('../ms2ldaviz/lda/code')\n",
    "sys.path.append('../ms2ldaviz/ms2ldaviz')"
   ]
  },
  {
   "cell_type": "code",
   "execution_count": 2,
   "metadata": {},
   "outputs": [],
   "source": [
    "from ms2lda_feature_extraction import MakeBinnedFeatures, LoadMGF"
   ]
  },
  {
   "cell_type": "markdown",
   "metadata": {},
   "source": [
    "The mgf file was downloaded from https://gnps.ucsd.edu/ProteoSAFe/gnpslibrary.jsp?library=all, direct link ftp://ccms-ftp.ucsd.edu/Spectral_Libraries/ALL_GNPS.mgf"
   ]
  },
  {
   "cell_type": "code",
   "execution_count": 3,
   "metadata": {},
   "outputs": [],
   "source": [
    "ms2_file = 'METABOLOMICS-SNETS-6e22f85a-download_clustered_spectra-main.mgf'"
   ]
  },
  {
   "cell_type": "code",
   "execution_count": 4,
   "metadata": {},
   "outputs": [],
   "source": [
    "loader = LoadMGF(min_ms1_intensity = 0.0,\n",
    "                 min_ms2_intensity = 25,\n",
    "                 mz_tol=5,\n",
    "                 rt_tol=10,\n",
    "                 peaklist=None)"
   ]
  },
  {
   "cell_type": "code",
   "execution_count": 5,
   "metadata": {},
   "outputs": [],
   "source": [
    "%load_ext memory_profiler"
   ]
  },
  {
   "cell_type": "code",
   "execution_count": 6,
   "metadata": {},
   "outputs": [
    {
     "name": "stdout",
     "output_type": "stream",
     "text": [
      "Filtering MS2 on intensity\n",
      "17025699 MS2 remaining\n",
      "peak memory: 4300.30 MiB, increment: 4252.23 MiB\n",
      "CPU times: user 4min 20s, sys: 5.19 s, total: 4min 25s\n",
      "Wall time: 4min 26s\n"
     ]
    }
   ],
   "source": [
    "%time %memit ms1, ms2, metadata = loader.load_spectra([ms2_file])"
   ]
  },
  {
   "cell_type": "code",
   "execution_count": 16,
   "metadata": {},
   "outputs": [
    {
     "name": "stdout",
     "output_type": "stream",
     "text": [
      "107122 documents\n",
      "After removing empty words, 229899 words left\n",
      "peak memory: 5872.04 MiB, increment: 1733.77 MiB\n",
      "CPU times: user 4min 7s, sys: 7.98 s, total: 4min 15s\n",
      "Wall time: 4min 19s\n"
     ]
    }
   ],
   "source": [
    "fm = MakeBinnedFeatures()\n",
    "%time %memit corpus, features = fm.make_features(ms2)\n",
    "corpus = corpus[corpus.keys()[0]]"
   ]
  },
  {
   "cell_type": "code",
   "execution_count": 17,
   "metadata": {},
   "outputs": [
    {
     "name": "stdout",
     "output_type": "stream",
     "text": [
      "peak memory: 5890.69 MiB, increment: 0.23 MiB\n"
     ]
    }
   ],
   "source": [
    "%memit del ms2"
   ]
  },
  {
   "cell_type": "code",
   "execution_count": 20,
   "metadata": {},
   "outputs": [],
   "source": [
    "import json"
   ]
  },
  {
   "cell_type": "code",
   "execution_count": 21,
   "metadata": {},
   "outputs": [],
   "source": [
    "with open('METABOLOMICS-SNETS-6e22f85a-download_clustered_spectra-main.features.json', 'w') as f:\n",
    "    json.dump(features, f)"
   ]
  },
  {
   "cell_type": "code",
   "execution_count": 25,
   "metadata": {},
   "outputs": [],
   "source": [
    "import numpy as np\n",
    "from scipy.sparse import dok_matrix"
   ]
  },
  {
   "cell_type": "code",
   "execution_count": 28,
   "metadata": {},
   "outputs": [],
   "source": [
    "doc_index = np.array(corpus.keys())"
   ]
  },
  {
   "cell_type": "code",
   "execution_count": 32,
   "metadata": {},
   "outputs": [],
   "source": [
    "with open('METABOLOMICS-SNETS-6e22f85a-download_clustered_spectra-main.docindex.npy', 'w') as f:\n",
    "  np.save(f, doc_index)"
   ]
  },
  {
   "cell_type": "code",
   "execution_count": 33,
   "metadata": {},
   "outputs": [],
   "source": [
    "word_index = set()   "
   ]
  },
  {
   "cell_type": "code",
   "execution_count": 35,
   "metadata": {},
   "outputs": [],
   "source": [
    "for words in corpus.itervalues():\n",
    "    for word in words.iterkeys():\n",
    "        if word not in word_index:\n",
    "            word_index.add(word)"
   ]
  },
  {
   "cell_type": "code",
   "execution_count": 44,
   "metadata": {},
   "outputs": [],
   "source": [
    "np_word_index = np.array(list(word_index))\n",
    "with open('METABOLOMICS-SNETS-6e22f85a-download_clustered_spectra-main.wordindex.npy', 'w') as f:\n",
    "    np.save(f, np_word_index)"
   ]
  },
  {
   "cell_type": "code",
   "execution_count": 46,
   "metadata": {},
   "outputs": [],
   "source": [
    "m = dok_matrix((len(doc_index), len(np_word_index)))"
   ]
  },
  {
   "cell_type": "code",
   "execution_count": 47,
   "metadata": {},
   "outputs": [],
   "source": [
    "index_doc = {v: k for k,v in enumerate(doc_index)}"
   ]
  },
  {
   "cell_type": "code",
   "execution_count": 49,
   "metadata": {},
   "outputs": [],
   "source": [
    "index_word = {v: k for k,v in enumerate(word_index)}"
   ]
  },
  {
   "cell_type": "code",
   "execution_count": 50,
   "metadata": {},
   "outputs": [],
   "source": [
    "for doc, words in corpus.items():\n",
    "    for word, score in words.items():\n",
    "        m[index_doc[doc], index_word[word]] = score"
   ]
  },
  {
   "cell_type": "code",
   "execution_count": 52,
   "metadata": {},
   "outputs": [],
   "source": [
    "del corpus"
   ]
  },
  {
   "cell_type": "code",
   "execution_count": 53,
   "metadata": {},
   "outputs": [],
   "source": [
    "m2 = m.tocsr()"
   ]
  },
  {
   "cell_type": "code",
   "execution_count": 54,
   "metadata": {},
   "outputs": [],
   "source": [
    "from scipy.sparse import save_npz"
   ]
  },
  {
   "cell_type": "code",
   "execution_count": 55,
   "metadata": {},
   "outputs": [],
   "source": [
    "save_npz('METABOLOMICS-SNETS-6e22f85a-download_clustered_spectra-main.corpus.npz', m2)"
   ]
  },
  {
   "cell_type": "code",
   "execution_count": null,
   "metadata": {},
   "outputs": [],
   "source": []
  }
 ],
 "metadata": {
  "kernelspec": {
   "display_name": "Python 2",
   "language": "python",
   "name": "python2"
  },
  "language_info": {
   "codemirror_mode": {
    "name": "ipython",
    "version": 2
   },
   "file_extension": ".py",
   "mimetype": "text/x-python",
   "name": "python",
   "nbconvert_exporter": "python",
   "pygments_lexer": "ipython2",
   "version": "2.7.15"
  }
 },
 "nbformat": 4,
 "nbformat_minor": 2
}
